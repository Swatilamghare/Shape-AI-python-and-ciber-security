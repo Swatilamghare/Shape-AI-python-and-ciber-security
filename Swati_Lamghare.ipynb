{
  "nbformat": 4,
  "nbformat_minor": 0,
  "metadata": {
    "colab": {
      "name": "Swati Lamghare.ipynb",
      "provenance": []
    },
    "kernelspec": {
      "name": "python3",
      "display_name": "Python 3"
    },
    "language_info": {
      "name": "python"
    }
  },
  "cells": [
    {
      "cell_type": "code",
      "metadata": {
        "colab": {
          "base_uri": "https://localhost:8080/"
        },
        "id": "0rWznpk5eTLQ",
        "outputId": "a870c576-6f7b-47a3-f491-81a1b91557e9"
      },
      "source": [
        "import requests\n",
        "#import os\n",
        "from datetime import datetime\n",
        "\n",
        "api_key = 'bc1d21c584f711a1c1cba3ec4b96cfc9'\n",
        "location = input(\"Enter the city name: \")\n",
        "\n",
        "\n",
        "\n",
        "complete_api_link = \"https://api.openweathermap.org/data/2.5/weather?q=\"+location+\"&appid=\"+api_key\n",
        "api_link = requests.get(complete_api_link)\n",
        "api_data = api_link.json()\n",
        "\n",
        "\n",
        "temp_city =  ((api_data['main']['temp']) - 273.15)\n",
        "weather_desc = api_data['weather'][0]['description']\n",
        "hmdt = api_data['main']['humidity']\n",
        "wind_spd = api_data['wind']['speed']\n",
        "date_time = datetime.now().strftime(\"%d %b %Y | %I:%M:%S %p\")\n",
        "\n",
        "\n",
        "print (\"-------------------------------------------------------------\")\n",
        "print (\"Weather Stats for - {}  || {}\".format(location.upper(), date_time))\n",
        "print (\"-------------------------------------------------------------\")\n",
        "\n",
        "print (\"Current temperature is: {:.2f} deg C\".format(temp_city))\n",
        "print (\"Current weather desc  :\",weather_desc)\n",
        "print (\"Current Humidity      :\",hmdt, '%')\n",
        "print (\"Current wind speed    :\",wind_spd ,'kmph')\n",
        "\n",
        "\n",
        "print(\"====================================================\")\n",
        "\n",
        "\n",
        "txtlist = [temp_city,weather_desc,hmdt,wind_spd,date_time]\n"
      ],
      "execution_count": 73,
      "outputs": [
        {
          "output_type": "stream",
          "text": [
            "Enter the city name: sagar\n",
            "-------------------------------------------------------------\n",
            "Weather Stats for - SAGAR  || 27 Jul 2021 | 04:23:42 PM\n",
            "-------------------------------------------------------------\n",
            "Current temperature is: 23.16 deg C\n",
            "Current weather desc  : moderate rain\n",
            "Current Humidity      : 92 %\n",
            "Current wind speed    : 5.94 kmph\n",
            "====================================================\n"
          ],
          "name": "stdout"
        }
      ]
    }
  ]
}